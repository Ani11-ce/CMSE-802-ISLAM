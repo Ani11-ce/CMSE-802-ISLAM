{
 "cells": [
  {
   "cell_type": "markdown",
   "metadata": {},
   "source": [
    "# Day 01: In Class Assignment: Welcome to CMSE802"
   ]
  },
  {
   "cell_type": "markdown",
   "metadata": {
    "tags": []
   },
   "source": [
    "<figure>\n",
    "<img src=\"https://cdn.serc.carleton.edu/images/cismi/computation/fractal_art.jpg\" width=400>\n",
    "<figcaption align = \"left\">Fractal art</figcaption>\n",
    "</figure> \n",
    "\n",
    "[Image source](https://serc.carleton.edu/cismi/itl/computation/index.html)"
   ]
  },
  {
   "cell_type": "markdown",
   "metadata": {
    "tags": [
     "names"
    ]
   },
   "source": [
    "### Student Identification\n",
    "\n",
    "Please do not modify the structure or format of this cell. Follow these steps:\n",
    "\n",
    "1. Look for the \"YOUR SUBMISSION\" section below\n",
    "2. Replace `[Your Name Here]` with your name\n",
    "3. If you worked with groupmates, include their names after your name, separated by commas\n",
    "4. Do not modify any other part of this cell\n",
    "\n",
    "Examples:\n",
    "```\n",
    "Single student:  John Smith\n",
    "Group work:      John Smith, Jane Doe, Alex Johnson\n",
    "```\n",
    "\n",
    "YOUR SUBMISSION (edit this line only):\n",
    "<p style='text-align: left;'> &#9989; [Tanzila Islam, Madison, Himanshi]\n",
    "\n",
    "Note:\n",
    "- Keep the \"&#9989;\" symbol at the start of your submission line\n",
    "- Use commas to separate multiple names\n",
    "- Spell names exactly as they appear in the course roster\n",
    "- This cell has been tagged as \"names\" - do not modify or remove this tag"
   ]
  },
  {
   "cell_type": "markdown",
   "metadata": {},
   "source": [
    "---\n",
    "## ___Outline___\n",
    "\n",
    "1. [Learning objectives](#obj)\n",
    "1. [Get to know each other](#introduce)\n",
    "1. [About the course](#goals)\n",
    "1. [Review of pre-class assignment](#review)\n",
    "1. [Setting up for the class](#SettingUp)"
   ]
  },
  {
   "cell_type": "markdown",
   "metadata": {},
   "source": [
    "---\n",
    "<a id=\"obj\"></a>\n",
    "## ___Learning objectives___\n",
    "\n",
    "At the end of the exercise, you should be able to:\n",
    "- Explain the course goals and the major components of the class.\n",
    "- Assess Jupyter notebooks using your computer and through the Engineering JuputerHub.\n",
    "- Make changes to Jupyter notebooks and save them.\n",
    "- Explain why a version control system like GitHub is useful.\n",
    "- Create a GitHub repository named `CMSE-802-LASTNAME` and push new content to the repository"
   ]
  },
  {
   "cell_type": "markdown",
   "metadata": {},
   "source": [
    "---\n",
    "<a id=\"introduce\"></a>\n",
    "\n",
    "## ___Get to know each other___\n",
    "\n",
    "&#9989;<font color=blue>**DO THIS:**</font> Form groups of 3-4 people, interview each other by asking the following questions:\n",
    "* What is your name and where are you from?\n",
    "* What is your area of research in $\\leq 7$ words?\n",
    "* What is that one thing you can share so others in the class know you better (e.g., favorite book, hobby, or unforgettable experience)?"
   ]
  },
  {
   "cell_type": "markdown",
   "metadata": {
    "tags": [
     "text answer"
    ],
    "vscode": {
     "languageId": "plaintext"
    }
   },
   "source": [
    "✏️ **Answer:** **1. Tanzila Islam:** from Bangladesh, working on pavement rehabilitation, soil imporovement, hobby: reading.\n",
    "**2. Madison Honori:** from Newyork, working on Integrated computational behavior, hobby: sowing\n",
    "**3. Himanshi:** from India, working on Quantum computing in Physics, hobby: traveling"
   ]
  },
  {
   "cell_type": "markdown",
   "metadata": {
    "tags": []
   },
   "source": [
    "---\n",
    "<a id=\"goals\"></a>\n",
    "\n",
    "## ___About the course___\n",
    "\n",
    "Please see the powerpoint presentation by the instructor."
   ]
  },
  {
   "cell_type": "markdown",
   "metadata": {},
   "source": [
    "&#9989; <font color=red>**QUESTION:**</font> \n",
    "After learning about others' responses to the survey in terms of their skill levels and what they would like to get out of the class, what are your thoughts on:\n",
    "- What areas may you help the others to learn about computational modeling?\n",
    "- Are there topics you think we should emphasize more after you hear from others?"
   ]
  },
  {
   "cell_type": "markdown",
   "metadata": {
    "tags": [
     "text answer"
    ]
   },
   "source": [
    "✏️ **Answer:** As I am still in learning phase, I am not sure how I can help others, but working in a group can open windows to solve problems together. As in a topic, I would like to get emphasized if I can learn image processing modelling."
   ]
  },
  {
   "cell_type": "markdown",
   "metadata": {},
   "source": [
    "----\n",
    "<a id=\"review\"></a>\n",
    "## ___Review of pre-class assignment___\n",
    "\n",
    "In group of 3-4, answer the following:"
   ]
  },
  {
   "cell_type": "markdown",
   "metadata": {},
   "source": [
    "&#9989; <font color=red>**QUESTION:**</font> \n",
    "Did you get stuck doing pre-class exercise? If so where did you get stuck? Discuss with your groupmates on how they get them to work. What solutions did your groupmates suggest?"
   ]
  },
  {
   "cell_type": "markdown",
   "metadata": {
    "tags": [
     "text answer"
    ]
   },
   "source": [
    "✏️ **Answer:** We didn't stuck doing pre-class exercise, it was pretty straightforward. "
   ]
  },
  {
   "cell_type": "markdown",
   "metadata": {},
   "source": [
    "----\n",
    "<a id=\"MSU JupyterHubw\"></a>\n",
    "## ___Connect to JupyterHub___\n",
    "\n",
    "Make sure you are able to connect to MSU's jupyterjub at [https://jupyterhub.egr.msu.edu](https://jupyterhub.egr.msu.edu). Instructions are in the Software Setup Guide.\n"
   ]
  },
  {
   "cell_type": "markdown",
   "metadata": {},
   "source": [
    "## Congratulations, you're done!\n",
    "\n",
    "Submit this assignment by uploading your notebook to the course Desire2Learn web page.  Go to the \"In-Class Assignments\" folder, find the appropriate submission link, and upload everything there. Make sure your name is on it!"
   ]
  },
  {
   "cell_type": "markdown",
   "metadata": {},
   "source": [
    "---\n",
    "\n",
    "© 2024 Michigan State University. This material was created for the Department of Computational Mathematics, Science and Engineering (CMSE) at Michigan State University."
   ]
  }
 ],
 "metadata": {
  "kernelspec": {
   "display_name": "Python 3 (ipykernel)",
   "language": "python",
   "name": "python3"
  },
  "language_info": {
   "codemirror_mode": {
    "name": "ipython",
    "version": 3
   },
   "file_extension": ".py",
   "mimetype": "text/x-python",
   "name": "python",
   "nbconvert_exporter": "python",
   "pygments_lexer": "ipython3",
   "version": "3.9.13"
  }
 },
 "nbformat": 4,
 "nbformat_minor": 4
}
